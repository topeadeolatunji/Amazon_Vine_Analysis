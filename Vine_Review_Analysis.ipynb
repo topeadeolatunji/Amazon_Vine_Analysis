{
  "nbformat": 4,
  "nbformat_minor": 0,
  "metadata": {
    "colab": {
      "provenance": [],
      "collapsed_sections": []
    },
    "kernelspec": {
      "name": "python3",
      "display_name": "Python 3"
    },
    "language_info": {
      "name": "python"
    }
  },
  "cells": [
    {
      "cell_type": "code",
      "execution_count": 2,
      "metadata": {
        "colab": {
          "base_uri": "https://localhost:8080/"
        },
        "id": "d8ZIk5mxtPPD",
        "outputId": "ce55f8fa-8ee6-45e0-e2e7-da2a308853b7"
      },
      "outputs": [
        {
          "output_type": "stream",
          "name": "stdout",
          "text": [
            "Hit:1 https://cloud.r-project.org/bin/linux/ubuntu bionic-cran40/ InRelease\n",
            "Hit:2 http://archive.ubuntu.com/ubuntu bionic InRelease\n",
            "Ign:3 https://developer.download.nvidia.com/compute/machine-learning/repos/ubuntu1804/x86_64  InRelease\n",
            "Hit:4 https://developer.download.nvidia.com/compute/cuda/repos/ubuntu1804/x86_64  InRelease\n",
            "Hit:5 https://developer.download.nvidia.com/compute/machine-learning/repos/ubuntu1804/x86_64  Release\n",
            "Hit:6 http://security.ubuntu.com/ubuntu bionic-security InRelease\n",
            "Hit:7 http://archive.ubuntu.com/ubuntu bionic-updates InRelease\n",
            "Hit:8 http://ppa.launchpad.net/c2d4u.team/c2d4u4.0+/ubuntu bionic InRelease\n",
            "Hit:9 http://archive.ubuntu.com/ubuntu bionic-backports InRelease\n",
            "Hit:11 http://ppa.launchpad.net/cran/libgit2/ubuntu bionic InRelease\n",
            "Hit:12 http://ppa.launchpad.net/deadsnakes/ppa/ubuntu bionic InRelease\n",
            "Hit:13 http://ppa.launchpad.net/graphics-drivers/ppa/ubuntu bionic InRelease\n",
            "Reading package lists... Done\n"
          ]
        }
      ],
      "source": [
        "import os\n",
        "# Find the latest version of spark 3.0 from http://www.apache.org/dist/spark/ and enter as the spark version\n",
        "# For example:\n",
        "# spark_version = 'spark-3.0.3'\n",
        "spark_version = 'spark-3.3.0'\n",
        "os.environ['SPARK_VERSION']=spark_version\n",
        "\n",
        "# Install Spark and Java\n",
        "!apt-get update\n",
        "!apt-get install openjdk-11-jdk-headless -qq > /dev/null\n",
        "!wget -q http://www.apache.org/dist/spark/$SPARK_VERSION/$SPARK_VERSION-bin-hadoop3.tgz\n",
        "!tar xf $SPARK_VERSION-bin-hadoop3.tgz\n",
        "!pip install -q findspark\n",
        "\n",
        "# Set Environment Variables\n",
        "import os\n",
        "os.environ[\"JAVA_HOME\"] = \"/usr/lib/jvm/java-11-openjdk-amd64\"\n",
        "os.environ[\"SPARK_HOME\"] = f\"/content/{spark_version}-bin-hadoop3\"\n",
        "\n",
        "# Start a SparkSession\n",
        "import findspark\n",
        "findspark.init()"
      ]
    },
    {
      "cell_type": "code",
      "source": [
        "# Download the Postgres driver that will allow Spark to interact with Postgres.\n",
        "!wget https://jdbc.postgresql.org/download/postgresql-42.5.0.jar"
      ],
      "metadata": {
        "colab": {
          "base_uri": "https://localhost:8080/"
        },
        "id": "zwWYtgVS2QHX",
        "outputId": "415192c5-1444-4127-decd-5d0f14a376eb"
      },
      "execution_count": 3,
      "outputs": [
        {
          "output_type": "stream",
          "name": "stdout",
          "text": [
            "--2022-09-03 00:56:15--  https://jdbc.postgresql.org/download/postgresql-42.5.0.jar\n",
            "Resolving jdbc.postgresql.org (jdbc.postgresql.org)... 72.32.157.228, 2001:4800:3e1:1::228\n",
            "Connecting to jdbc.postgresql.org (jdbc.postgresql.org)|72.32.157.228|:443... connected.\n",
            "HTTP request sent, awaiting response... 200 OK\n",
            "Length: 1046274 (1022K) [application/java-archive]\n",
            "Saving to: ‘postgresql-42.5.0.jar’\n",
            "\n",
            "postgresql-42.5.0.j 100%[===================>]   1022K  1.23MB/s    in 0.8s    \n",
            "\n",
            "2022-09-03 00:56:16 (1.23 MB/s) - ‘postgresql-42.5.0.jar’ saved [1046274/1046274]\n",
            "\n"
          ]
        }
      ]
    },
    {
      "cell_type": "code",
      "source": [
        "from pyspark.sql import SparkSession\n",
        "spark = SparkSession.builder.appName(\"M16-Amazon-Challenge\").config(\"spark.driver.extraClassPath\",\"/content/postgresql-42.5.0.jar\").getOrCreate()"
      ],
      "metadata": {
        "id": "27AeGj1s4MyZ"
      },
      "execution_count": 4,
      "outputs": []
    },
    {
      "cell_type": "code",
      "source": [
        "from pyspark import SparkFiles\n",
        "url = \"https://s3.amazonaws.com/amazon-reviews-pds/tsv/amazon_reviews_us_Automotive_v1_00.tsv.gz\"\n",
        "spark.sparkContext.addFile(url)\n",
        "df = spark.read.option(\"encoding\", \"UTF-8\").csv(SparkFiles.get(\"amazon_reviews_us_Automotive_v1_00.tsv.gz\"), sep=\"\\t\", header=True, inferSchema=True)\n",
        "df.show()"
      ],
      "metadata": {
        "colab": {
          "base_uri": "https://localhost:8080/"
        },
        "id": "fA7rgYVZ9ZrG",
        "outputId": "8443389e-b7a1-4353-eb20-9453c3ac34cc"
      },
      "execution_count": 5,
      "outputs": [
        {
          "output_type": "stream",
          "name": "stdout",
          "text": [
            "+-----------+-----------+--------------+----------+--------------+--------------------+----------------+-----------+-------------+-----------+----+-----------------+--------------------+--------------------+-------------------+\n",
            "|marketplace|customer_id|     review_id|product_id|product_parent|       product_title|product_category|star_rating|helpful_votes|total_votes|vine|verified_purchase|     review_headline|         review_body|        review_date|\n",
            "+-----------+-----------+--------------+----------+--------------+--------------------+----------------+-----------+-------------+-----------+----+-----------------+--------------------+--------------------+-------------------+\n",
            "|         US|   36075342| RAB23OVFNCXZQ|B00LPRXQ4Y|     339193102|17\" 2003-2006 For...|      Automotive|          1|            0|          0|   N|                Y|     As it was used,|As it was used, t...|2015-08-31 00:00:00|\n",
            "|         US|   42462164|R3NORADVJO6IE6|B000C7S0TO|     907684644|Spectra Premium C...|      Automotive|          5|            0|          0|   N|                Y|          Five Stars|Put it in fine, n...|2015-08-31 00:00:00|\n",
            "|         US|   21241933|R299F4SO98S5OO|B000CO9WE4|     752246352|K&N E-4665 High P...|      Automotive|          5|            1|          1|   N|                Y|Great fit and per...|Fit wonderfully o...|2015-08-31 00:00:00|\n",
            "|         US|   52570308|R2DA9DOT03UW6I|B000GKD5NI|     105401756|Suncutters Rear W...|      Automotive|          5|            2|          3|   N|                Y|Good for the pric...|Good for the pric...|2015-08-31 00:00:00|\n",
            "|         US|   38200102|R2OGCH681EQHU6|B009SDA7TE|     728471129|Lug Nuts Landcrui...|      Automotive|          5|            0|          0|   N|                Y|          Five Stars|Fit perfectly on ...|2015-08-31 00:00:00|\n",
            "|         US|   34866169| R2JMKIC16MHD7|B00KV15KRG|     962286893|Fits 2007-2009 Ho...|      Automotive|          5|            2|          2|   N|                Y|Fit Well and Bett...|Product fits well...|2015-08-31 00:00:00|\n",
            "|         US|     184627|R1DB5DA7CWWTI8|B0002JMAKW|     267002949|Castrol 12614 Dot...|      Automotive|          5|            0|          0|   N|                Y|convenient, fast ...|convenient ,fast ...|2015-08-31 00:00:00|\n",
            "|         US|    2975964|R1N8XWFDK4QACP|B00XJKMM6S|     570789093|New Power Window ...|      Automotive|          5|            0|          0|   N|                Y|          Five Stars|             is good|2015-08-31 00:00:00|\n",
            "|         US|   40946484|R19VFLX6MRU0CX|B000C5CEKC|     389524802|Motorad MGC-791 L...|      Automotive|          5|            0|          0|   N|                Y|GOOD deal.  Great...|wonderful.  if yo...|2015-08-31 00:00:00|\n",
            "|         US|   12554469| RLTD8YDGTP9PT|B00GD9R2A8|      21425394|Genuine Ford AL3Z...|      Automotive|          1|            0|          0|   N|                Y|Does not fit my F...|Does not work wit...|2015-08-31 00:00:00|\n",
            "|         US|   35335277| R78B5LCFJ52SR|B00RM327NG|     816815445|Air Vent Smartpho...|      Automotive|          4|            0|          0|   N|                Y|            Not bad!|I really loved th...|2015-08-31 00:00:00|\n",
            "|         US|   44957003|R33SKWL0HEQIQ9|B0071NL7UQ|     192225755|FDJ New Replaceme...|      Automotive|          5|            0|          0|   N|                Y|          Five Stars| Just what I wanted.|2015-08-31 00:00:00|\n",
            "|         US|     444125|R1HIOV0UX7P13D|B00DSOL0FY|     849414056|Omix-Ada 17402.09...|      Automotive|          5|            0|          0|   N|                Y|          Five Stars|Great product and...|2015-08-31 00:00:00|\n",
            "|         US|   35829199| R4WS0E0MSP9DH|B00GRV48TK|     651316983|GMB 530-2480 Fuel...|      Automotive|          5|            2|          2|   N|                Y|           Well made|Appears to be wel...|2015-08-31 00:00:00|\n",
            "|         US|   16825098| R2RUIDUMDKG7P|B000E4PCGE|     694793259|00-03 NISSAN SENT...|      Automotive|          3|            0|          0|   N|                Y|new and a great l...|Product was as de...|2015-08-31 00:00:00|\n",
            "|         US|    2583392| RZSA6L4M4D4XA|B005Z8HAUK|     732072782|Slime 40026 2X He...|      Automotive|          5|            0|          0|   N|                Y|          Five Stars|SO much quieter t...|2015-08-31 00:00:00|\n",
            "|         US|   10127903|R1O3NGQNCFXKR6|B0043AV4NK|     533179941|MegaBrand N1 4\" B...|      Automotive|          5|            0|          0|   N|                Y|              decent|Great for the pri...|2015-08-31 00:00:00|\n",
            "|         US|   17937309|R2IEM66RCBJ95A|B00CDHD76C|     126169507|Jackly 45-in-One ...|      Automotive|          5|            0|          0|   N|                Y|Nice set of tools...|Nice set of tools...|2015-08-31 00:00:00|\n",
            "|         US|   17145638|R2BQ9O517KSCP8|B000CF1XO0|     475232737|Bosch 3397118942 ...|      Automotive|          5|            0|          0|   N|                N|          Five Stars|       Everything ok|2015-08-31 00:00:00|\n",
            "|         US|   32813839|R1KF86427VR7AC|B003VLBPJA|     897802619|Heavy-Duty 15\" Ca...|      Automotive|          3|            0|          0|   N|                Y|         Three Stars|I hope the hooks ...|2015-08-31 00:00:00|\n",
            "+-----------+-----------+--------------+----------+--------------+--------------------+----------------+-----------+-------------+-----------+----+-----------------+--------------------+--------------------+-------------------+\n",
            "only showing top 20 rows\n",
            "\n"
          ]
        }
      ]
    },
    {
      "cell_type": "code",
      "source": [
        "cleaned_df = df.dropna()\n",
        "cleaned_df.show()"
      ],
      "metadata": {
        "colab": {
          "base_uri": "https://localhost:8080/"
        },
        "id": "Isbw5Y9g-tI-",
        "outputId": "267db1d1-b3cd-497f-f6ef-39cf7a369387"
      },
      "execution_count": 6,
      "outputs": [
        {
          "output_type": "stream",
          "name": "stdout",
          "text": [
            "+-----------+-----------+--------------+----------+--------------+--------------------+----------------+-----------+-------------+-----------+----+-----------------+--------------------+--------------------+-------------------+\n",
            "|marketplace|customer_id|     review_id|product_id|product_parent|       product_title|product_category|star_rating|helpful_votes|total_votes|vine|verified_purchase|     review_headline|         review_body|        review_date|\n",
            "+-----------+-----------+--------------+----------+--------------+--------------------+----------------+-----------+-------------+-----------+----+-----------------+--------------------+--------------------+-------------------+\n",
            "|         US|   36075342| RAB23OVFNCXZQ|B00LPRXQ4Y|     339193102|17\" 2003-2006 For...|      Automotive|          1|            0|          0|   N|                Y|     As it was used,|As it was used, t...|2015-08-31 00:00:00|\n",
            "|         US|   42462164|R3NORADVJO6IE6|B000C7S0TO|     907684644|Spectra Premium C...|      Automotive|          5|            0|          0|   N|                Y|          Five Stars|Put it in fine, n...|2015-08-31 00:00:00|\n",
            "|         US|   21241933|R299F4SO98S5OO|B000CO9WE4|     752246352|K&N E-4665 High P...|      Automotive|          5|            1|          1|   N|                Y|Great fit and per...|Fit wonderfully o...|2015-08-31 00:00:00|\n",
            "|         US|   52570308|R2DA9DOT03UW6I|B000GKD5NI|     105401756|Suncutters Rear W...|      Automotive|          5|            2|          3|   N|                Y|Good for the pric...|Good for the pric...|2015-08-31 00:00:00|\n",
            "|         US|   38200102|R2OGCH681EQHU6|B009SDA7TE|     728471129|Lug Nuts Landcrui...|      Automotive|          5|            0|          0|   N|                Y|          Five Stars|Fit perfectly on ...|2015-08-31 00:00:00|\n",
            "|         US|   34866169| R2JMKIC16MHD7|B00KV15KRG|     962286893|Fits 2007-2009 Ho...|      Automotive|          5|            2|          2|   N|                Y|Fit Well and Bett...|Product fits well...|2015-08-31 00:00:00|\n",
            "|         US|     184627|R1DB5DA7CWWTI8|B0002JMAKW|     267002949|Castrol 12614 Dot...|      Automotive|          5|            0|          0|   N|                Y|convenient, fast ...|convenient ,fast ...|2015-08-31 00:00:00|\n",
            "|         US|    2975964|R1N8XWFDK4QACP|B00XJKMM6S|     570789093|New Power Window ...|      Automotive|          5|            0|          0|   N|                Y|          Five Stars|             is good|2015-08-31 00:00:00|\n",
            "|         US|   40946484|R19VFLX6MRU0CX|B000C5CEKC|     389524802|Motorad MGC-791 L...|      Automotive|          5|            0|          0|   N|                Y|GOOD deal.  Great...|wonderful.  if yo...|2015-08-31 00:00:00|\n",
            "|         US|   12554469| RLTD8YDGTP9PT|B00GD9R2A8|      21425394|Genuine Ford AL3Z...|      Automotive|          1|            0|          0|   N|                Y|Does not fit my F...|Does not work wit...|2015-08-31 00:00:00|\n",
            "|         US|   35335277| R78B5LCFJ52SR|B00RM327NG|     816815445|Air Vent Smartpho...|      Automotive|          4|            0|          0|   N|                Y|            Not bad!|I really loved th...|2015-08-31 00:00:00|\n",
            "|         US|   44957003|R33SKWL0HEQIQ9|B0071NL7UQ|     192225755|FDJ New Replaceme...|      Automotive|          5|            0|          0|   N|                Y|          Five Stars| Just what I wanted.|2015-08-31 00:00:00|\n",
            "|         US|     444125|R1HIOV0UX7P13D|B00DSOL0FY|     849414056|Omix-Ada 17402.09...|      Automotive|          5|            0|          0|   N|                Y|          Five Stars|Great product and...|2015-08-31 00:00:00|\n",
            "|         US|   35829199| R4WS0E0MSP9DH|B00GRV48TK|     651316983|GMB 530-2480 Fuel...|      Automotive|          5|            2|          2|   N|                Y|           Well made|Appears to be wel...|2015-08-31 00:00:00|\n",
            "|         US|   16825098| R2RUIDUMDKG7P|B000E4PCGE|     694793259|00-03 NISSAN SENT...|      Automotive|          3|            0|          0|   N|                Y|new and a great l...|Product was as de...|2015-08-31 00:00:00|\n",
            "|         US|    2583392| RZSA6L4M4D4XA|B005Z8HAUK|     732072782|Slime 40026 2X He...|      Automotive|          5|            0|          0|   N|                Y|          Five Stars|SO much quieter t...|2015-08-31 00:00:00|\n",
            "|         US|   10127903|R1O3NGQNCFXKR6|B0043AV4NK|     533179941|MegaBrand N1 4\" B...|      Automotive|          5|            0|          0|   N|                Y|              decent|Great for the pri...|2015-08-31 00:00:00|\n",
            "|         US|   17937309|R2IEM66RCBJ95A|B00CDHD76C|     126169507|Jackly 45-in-One ...|      Automotive|          5|            0|          0|   N|                Y|Nice set of tools...|Nice set of tools...|2015-08-31 00:00:00|\n",
            "|         US|   17145638|R2BQ9O517KSCP8|B000CF1XO0|     475232737|Bosch 3397118942 ...|      Automotive|          5|            0|          0|   N|                N|          Five Stars|       Everything ok|2015-08-31 00:00:00|\n",
            "|         US|   32813839|R1KF86427VR7AC|B003VLBPJA|     897802619|Heavy-Duty 15\" Ca...|      Automotive|          3|            0|          0|   N|                Y|         Three Stars|I hope the hooks ...|2015-08-31 00:00:00|\n",
            "+-----------+-----------+--------------+----------+--------------+--------------------+----------------+-----------+-------------+-----------+----+-----------------+--------------------+--------------------+-------------------+\n",
            "only showing top 20 rows\n",
            "\n"
          ]
        }
      ]
    },
    {
      "cell_type": "code",
      "source": [
        "# Create the vine_table. DataFrame\n",
        "vine_df = cleaned_df.select([\"review_id\",\"star_rating\", \"helpful_votes\",\"total_votes\",\"vine\",\"verified_purchase\"])\n",
        "vine_df.show()"
      ],
      "metadata": {
        "colab": {
          "base_uri": "https://localhost:8080/"
        },
        "id": "Nn-r37nC_PXt",
        "outputId": "7f56feb7-cdff-42c6-9924-c3855280ab20"
      },
      "execution_count": 7,
      "outputs": [
        {
          "output_type": "stream",
          "name": "stdout",
          "text": [
            "+--------------+-----------+-------------+-----------+----+-----------------+\n",
            "|     review_id|star_rating|helpful_votes|total_votes|vine|verified_purchase|\n",
            "+--------------+-----------+-------------+-----------+----+-----------------+\n",
            "| RAB23OVFNCXZQ|          1|            0|          0|   N|                Y|\n",
            "|R3NORADVJO6IE6|          5|            0|          0|   N|                Y|\n",
            "|R299F4SO98S5OO|          5|            1|          1|   N|                Y|\n",
            "|R2DA9DOT03UW6I|          5|            2|          3|   N|                Y|\n",
            "|R2OGCH681EQHU6|          5|            0|          0|   N|                Y|\n",
            "| R2JMKIC16MHD7|          5|            2|          2|   N|                Y|\n",
            "|R1DB5DA7CWWTI8|          5|            0|          0|   N|                Y|\n",
            "|R1N8XWFDK4QACP|          5|            0|          0|   N|                Y|\n",
            "|R19VFLX6MRU0CX|          5|            0|          0|   N|                Y|\n",
            "| RLTD8YDGTP9PT|          1|            0|          0|   N|                Y|\n",
            "| R78B5LCFJ52SR|          4|            0|          0|   N|                Y|\n",
            "|R33SKWL0HEQIQ9|          5|            0|          0|   N|                Y|\n",
            "|R1HIOV0UX7P13D|          5|            0|          0|   N|                Y|\n",
            "| R4WS0E0MSP9DH|          5|            2|          2|   N|                Y|\n",
            "| R2RUIDUMDKG7P|          3|            0|          0|   N|                Y|\n",
            "| RZSA6L4M4D4XA|          5|            0|          0|   N|                Y|\n",
            "|R1O3NGQNCFXKR6|          5|            0|          0|   N|                Y|\n",
            "|R2IEM66RCBJ95A|          5|            0|          0|   N|                Y|\n",
            "|R2BQ9O517KSCP8|          5|            0|          0|   N|                N|\n",
            "|R1KF86427VR7AC|          3|            0|          0|   N|                Y|\n",
            "+--------------+-----------+-------------+-----------+----+-----------------+\n",
            "only showing top 20 rows\n",
            "\n"
          ]
        }
      ]
    },
    {
      "cell_type": "markdown",
      "source": [
        "## **Deliverable 2**"
      ],
      "metadata": {
        "id": "b8wDrOrGGULc"
      }
    },
    {
      "cell_type": "code",
      "source": [
        "# Step 1: Filter the data and create a new DataFrame or table to retrieve all the rows where the total_votes count is equal to or greater than 20\n",
        "from pyspark.sql.functions import col\n",
        "total_votes_df = vine_df.filter(col(\"total_votes\") >= 20)\n",
        "total_votes_df.show()"
      ],
      "metadata": {
        "colab": {
          "base_uri": "https://localhost:8080/"
        },
        "id": "2nPG0lWgHkOm",
        "outputId": "a3fe3ba0-b20b-4c91-a547-ce94a96f40bc"
      },
      "execution_count": 8,
      "outputs": [
        {
          "output_type": "stream",
          "name": "stdout",
          "text": [
            "+--------------+-----------+-------------+-----------+----+-----------------+\n",
            "|     review_id|star_rating|helpful_votes|total_votes|vine|verified_purchase|\n",
            "+--------------+-----------+-------------+-----------+----+-----------------+\n",
            "|R1T4FVSABO0IDP|          5|            8|         31|   N|                Y|\n",
            "|R397VXR1GAK6C9|          5|           21|         21|   N|                Y|\n",
            "|R2H6KB9RHS17GA|          3|           59|         69|   N|                Y|\n",
            "|R3HAK0MUN9F5IT|          1|            6|         28|   N|                Y|\n",
            "|R29UTZTOPUVRSV|          5|           21|         21|   N|                Y|\n",
            "| RY9FLUD8VG6XD|          4|           27|         32|   N|                Y|\n",
            "|R3Q5NAY8BGAKHI|          5|           34|         40|   N|                Y|\n",
            "| RRVJ7TYDEK7EO|          5|           30|         30|   N|                Y|\n",
            "|R2S4CHISQA2WDH|          5|           17|         20|   N|                Y|\n",
            "|R1JNALJ77OULPH|          4|           57|         65|   N|                Y|\n",
            "|R13YNG792BCR77|          5|           19|         20|   N|                Y|\n",
            "|R1RYG8MVOPK4Q2|          5|           18|         20|   N|                Y|\n",
            "|R2V9VX4YQ8TQ24|          5|           33|         36|   N|                Y|\n",
            "|R2UCJ0GANHZVA8|          5|           21|         21|   N|                Y|\n",
            "| R8MJZ3925MBK0|          5|           96|         98|   N|                Y|\n",
            "|R378YNR0LMM3DP|          2|           41|         47|   N|                Y|\n",
            "|R2UIEYEJPJC9EM|          5|           64|         70|   N|                N|\n",
            "| RX2K8ERZ5BENR|          5|           52|         56|   N|                Y|\n",
            "|R34VOML4JURU4E|          1|           34|         35|   N|                Y|\n",
            "|R21FPJN76XM6J8|          3|           43|         52|   N|                Y|\n",
            "+--------------+-----------+-------------+-----------+----+-----------------+\n",
            "only showing top 20 rows\n",
            "\n"
          ]
        }
      ]
    },
    {
      "cell_type": "code",
      "source": [
        "# Step 2: Retrieve all the rows where the number of helpful_votes divided by total_votes is equal to or greater than 50%.\n",
        "percent_votes_df = total_votes_df.withColumn('percent_votes',col('helpful_votes')/col('total_votes')).alias('percent_votes').filter(col(\"percent_votes\") >= 0.5)\n",
        "percent_votes_df.show()"
      ],
      "metadata": {
        "colab": {
          "base_uri": "https://localhost:8080/"
        },
        "id": "BTzG2JstIqjf",
        "outputId": "ff0bb3a3-52e4-4911-94e8-e4d00ad575ae"
      },
      "execution_count": 9,
      "outputs": [
        {
          "output_type": "stream",
          "name": "stdout",
          "text": [
            "+--------------+-----------+-------------+-----------+----+-----------------+------------------+\n",
            "|     review_id|star_rating|helpful_votes|total_votes|vine|verified_purchase|     percent_votes|\n",
            "+--------------+-----------+-------------+-----------+----+-----------------+------------------+\n",
            "|R397VXR1GAK6C9|          5|           21|         21|   N|                Y|               1.0|\n",
            "|R2H6KB9RHS17GA|          3|           59|         69|   N|                Y| 0.855072463768116|\n",
            "|R29UTZTOPUVRSV|          5|           21|         21|   N|                Y|               1.0|\n",
            "| RY9FLUD8VG6XD|          4|           27|         32|   N|                Y|           0.84375|\n",
            "|R3Q5NAY8BGAKHI|          5|           34|         40|   N|                Y|              0.85|\n",
            "| RRVJ7TYDEK7EO|          5|           30|         30|   N|                Y|               1.0|\n",
            "|R2S4CHISQA2WDH|          5|           17|         20|   N|                Y|              0.85|\n",
            "|R1JNALJ77OULPH|          4|           57|         65|   N|                Y|0.8769230769230769|\n",
            "|R13YNG792BCR77|          5|           19|         20|   N|                Y|              0.95|\n",
            "|R1RYG8MVOPK4Q2|          5|           18|         20|   N|                Y|               0.9|\n",
            "|R2V9VX4YQ8TQ24|          5|           33|         36|   N|                Y|0.9166666666666666|\n",
            "|R2UCJ0GANHZVA8|          5|           21|         21|   N|                Y|               1.0|\n",
            "| R8MJZ3925MBK0|          5|           96|         98|   N|                Y|0.9795918367346939|\n",
            "|R378YNR0LMM3DP|          2|           41|         47|   N|                Y|0.8723404255319149|\n",
            "|R2UIEYEJPJC9EM|          5|           64|         70|   N|                N|0.9142857142857143|\n",
            "| RX2K8ERZ5BENR|          5|           52|         56|   N|                Y|0.9285714285714286|\n",
            "|R34VOML4JURU4E|          1|           34|         35|   N|                Y|0.9714285714285714|\n",
            "|R21FPJN76XM6J8|          3|           43|         52|   N|                Y|0.8269230769230769|\n",
            "|R1YMR7QJ7OR3DE|          1|           21|         22|   N|                Y|0.9545454545454546|\n",
            "|R104OMNNT1A7HJ|          5|           20|         24|   N|                Y|0.8333333333333334|\n",
            "+--------------+-----------+-------------+-----------+----+-----------------+------------------+\n",
            "only showing top 20 rows\n",
            "\n"
          ]
        }
      ]
    },
    {
      "cell_type": "code",
      "source": [
        "# Step 3: Retrieves all the rows where a review was written as part of the Vine program (paid)\n",
        "paid_df = percent_votes_df.filter(col(\"vine\") == \"Y\").show()"
      ],
      "metadata": {
        "colab": {
          "base_uri": "https://localhost:8080/"
        },
        "id": "L773M_2gOAGj",
        "outputId": "6733ed89-e5a9-4a3b-f160-61679800c1cf"
      },
      "execution_count": 10,
      "outputs": [
        {
          "output_type": "stream",
          "name": "stdout",
          "text": [
            "+--------------+-----------+-------------+-----------+----+-----------------+------------------+\n",
            "|     review_id|star_rating|helpful_votes|total_votes|vine|verified_purchase|     percent_votes|\n",
            "+--------------+-----------+-------------+-----------+----+-----------------+------------------+\n",
            "| REKN4PLM5174P|          4|          219|        225|   Y|                N|0.9733333333333334|\n",
            "| RQOG8IIJX7CKB|          4|           21|         27|   Y|                N|0.7777777777777778|\n",
            "|R33EJ9PSZR13CM|          4|           26|         30|   Y|                N|0.8666666666666667|\n",
            "| RD2BFV896F321|          5|           16|         20|   Y|                N|               0.8|\n",
            "|R37GSXLA11XF8N|          5|           30|         34|   Y|                N|0.8823529411764706|\n",
            "| RQBQYBM9VMSH4|          5|           19|         20|   Y|                N|              0.95|\n",
            "|R2YE4F9ESKFWEK|          3|           20|         23|   Y|                N|0.8695652173913043|\n",
            "|R1E4L7HHB8TBP9|          4|           80|         92|   Y|                N|0.8695652173913043|\n",
            "|R2C2WXDXMZL005|          2|           20|         25|   Y|                N|               0.8|\n",
            "|R1PPY4U0K03KTE|          5|           31|         38|   Y|                N|0.8157894736842105|\n",
            "|R12SMR88Q45MWQ|          3|           23|         24|   Y|                N|0.9583333333333334|\n",
            "|R188VWFDBDWRR0|          4|           35|         38|   Y|                N|0.9210526315789473|\n",
            "| RUE8J5M74KJUP|          1|           37|         42|   Y|                N|0.8809523809523809|\n",
            "|R3IMZIN7Y64IP1|          1|           19|         23|   Y|                N|0.8260869565217391|\n",
            "|R17RGR2YSZ5UDG|          4|           19|         24|   Y|                N|0.7916666666666666|\n",
            "|R2SBNSIBLPIIG6|          4|           47|         53|   Y|                N|0.8867924528301887|\n",
            "|R197MLUGNBO8SK|          5|           24|         29|   Y|                N|0.8275862068965517|\n",
            "|R21QBM40D91D00|          3|           18|         25|   Y|                N|              0.72|\n",
            "|R1Z5U87WQ4LVJG|          4|           89|        101|   Y|                N|0.8811881188118812|\n",
            "| RAT9CVRLRHXQZ|          5|           50|         54|   Y|                N|0.9259259259259259|\n",
            "+--------------+-----------+-------------+-----------+----+-----------------+------------------+\n",
            "only showing top 20 rows\n",
            "\n"
          ]
        }
      ]
    },
    {
      "cell_type": "code",
      "source": [
        "# Step 4: Retrieves all the rows where the review was not part of the Vine program (unpaid)\n",
        "non_paid_df = percent_votes_df.filter(col(\"vine\") == \"N\").show()"
      ],
      "metadata": {
        "colab": {
          "base_uri": "https://localhost:8080/"
        },
        "id": "XLgcYFRWOVIH",
        "outputId": "28faf414-170e-49dd-fa8b-f3f950338996"
      },
      "execution_count": 11,
      "outputs": [
        {
          "output_type": "stream",
          "name": "stdout",
          "text": [
            "+--------------+-----------+-------------+-----------+----+-----------------+------------------+\n",
            "|     review_id|star_rating|helpful_votes|total_votes|vine|verified_purchase|     percent_votes|\n",
            "+--------------+-----------+-------------+-----------+----+-----------------+------------------+\n",
            "|R397VXR1GAK6C9|          5|           21|         21|   N|                Y|               1.0|\n",
            "|R2H6KB9RHS17GA|          3|           59|         69|   N|                Y| 0.855072463768116|\n",
            "|R29UTZTOPUVRSV|          5|           21|         21|   N|                Y|               1.0|\n",
            "| RY9FLUD8VG6XD|          4|           27|         32|   N|                Y|           0.84375|\n",
            "|R3Q5NAY8BGAKHI|          5|           34|         40|   N|                Y|              0.85|\n",
            "| RRVJ7TYDEK7EO|          5|           30|         30|   N|                Y|               1.0|\n",
            "|R2S4CHISQA2WDH|          5|           17|         20|   N|                Y|              0.85|\n",
            "|R1JNALJ77OULPH|          4|           57|         65|   N|                Y|0.8769230769230769|\n",
            "|R13YNG792BCR77|          5|           19|         20|   N|                Y|              0.95|\n",
            "|R1RYG8MVOPK4Q2|          5|           18|         20|   N|                Y|               0.9|\n",
            "|R2V9VX4YQ8TQ24|          5|           33|         36|   N|                Y|0.9166666666666666|\n",
            "|R2UCJ0GANHZVA8|          5|           21|         21|   N|                Y|               1.0|\n",
            "| R8MJZ3925MBK0|          5|           96|         98|   N|                Y|0.9795918367346939|\n",
            "|R378YNR0LMM3DP|          2|           41|         47|   N|                Y|0.8723404255319149|\n",
            "|R2UIEYEJPJC9EM|          5|           64|         70|   N|                N|0.9142857142857143|\n",
            "| RX2K8ERZ5BENR|          5|           52|         56|   N|                Y|0.9285714285714286|\n",
            "|R34VOML4JURU4E|          1|           34|         35|   N|                Y|0.9714285714285714|\n",
            "|R21FPJN76XM6J8|          3|           43|         52|   N|                Y|0.8269230769230769|\n",
            "|R1YMR7QJ7OR3DE|          1|           21|         22|   N|                Y|0.9545454545454546|\n",
            "|R104OMNNT1A7HJ|          5|           20|         24|   N|                Y|0.8333333333333334|\n",
            "+--------------+-----------+-------------+-----------+----+-----------------+------------------+\n",
            "only showing top 20 rows\n",
            "\n"
          ]
        }
      ]
    },
    {
      "cell_type": "code",
      "source": [
        "# Step 5: Determine the total number of reviews, the number of 5-star reviews, and the percentage of 5-star reviews for the two types of review (paid vs unpaid).\n",
        "\n",
        "from pyspark.sql.functions import col,when,count,lit\n",
        "ratings_total_df = percent_votes_df.groupBy(\"vine\").agg(\n",
        "    count(col(\"vine\")).alias(\"Total_Reviews\"),\n",
        "    count(when(col(\"star_rating\") == 5, True)).alias(\"Total_5_Star_Reviews\"),\n",
        "    (count(when(col(\"star_rating\") == 5, True))/count(col(\"vine\"))*100).alias(\"%_5_Star_To_Total\")).show()"
      ],
      "metadata": {
        "colab": {
          "base_uri": "https://localhost:8080/"
        },
        "id": "P3h_uWOfOhJv",
        "outputId": "aee6647b-c58e-4c49-944d-aca2bf83deb0"
      },
      "execution_count": 12,
      "outputs": [
        {
          "output_type": "stream",
          "name": "stdout",
          "text": [
            "+----+-------------+--------------------+------------------+\n",
            "|vine|Total_Reviews|Total_5_Star_Reviews| %_5_Star_To_Total|\n",
            "+----+-------------+--------------------+------------------+\n",
            "|   Y|           82|                  33|40.243902439024396|\n",
            "|   N|        24723|               12795| 51.75342798204101|\n",
            "+----+-------------+--------------------+------------------+\n",
            "\n"
          ]
        }
      ]
    }
  ]
}